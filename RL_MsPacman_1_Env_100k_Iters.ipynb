{
 "cells": [
  {
   "cell_type": "code",
   "execution_count": 1,
   "id": "d43191f0",
   "metadata": {},
   "outputs": [
    {
     "name": "stdout",
     "output_type": "stream",
     "text": [
      "Looking in indexes: https://pypi.org/simple, https://download.pytorch.org/whl/cu113\n",
      "Requirement already satisfied: torch in c:\\users\\itsdr\\appdata\\roaming\\python\\python37\\site-packages (1.11.0)\n",
      "Collecting torchvision\n",
      "  Downloading https://download.pytorch.org/whl/cu113/torchvision-0.12.0%2Bcu113-cp37-cp37m-win_amd64.whl (5.4 MB)\n",
      "Collecting torchaudio\n",
      "  Downloading https://download.pytorch.org/whl/cu113/torchaudio-0.11.0%2Bcu113-cp37-cp37m-win_amd64.whl (573 kB)\n",
      "Requirement already satisfied: typing-extensions in c:\\users\\itsdr\\appdata\\roaming\\python\\python37\\site-packages (from torch) (4.2.0)\n",
      "Requirement already satisfied: requests in c:\\users\\itsdr\\anaconda3\\lib\\site-packages (from torchvision) (2.26.0)\n",
      "Requirement already satisfied: pillow!=8.3.*,>=5.3.0 in c:\\users\\itsdr\\appdata\\roaming\\python\\python37\\site-packages (from torchvision) (7.2.0)\n",
      "Requirement already satisfied: numpy in c:\\users\\itsdr\\appdata\\roaming\\python\\python37\\site-packages (from torchvision) (1.21.6)\n",
      "Requirement already satisfied: charset-normalizer~=2.0.0 in c:\\users\\itsdr\\anaconda3\\lib\\site-packages (from requests->torchvision) (2.0.4)\n",
      "Requirement already satisfied: idna<4,>=2.5 in c:\\users\\itsdr\\anaconda3\\lib\\site-packages (from requests->torchvision) (3.2)\n",
      "Requirement already satisfied: urllib3<1.27,>=1.21.1 in c:\\users\\itsdr\\anaconda3\\lib\\site-packages (from requests->torchvision) (1.26.7)\n",
      "Requirement already satisfied: certifi>=2017.4.17 in c:\\users\\itsdr\\anaconda3\\lib\\site-packages (from requests->torchvision) (2021.10.8)\n",
      "Installing collected packages: torchvision, torchaudio\n",
      "Successfully installed torchaudio-0.11.0+cu113 torchvision-0.12.0+cu113\n"
     ]
    },
    {
     "name": "stderr",
     "output_type": "stream",
     "text": [
      "WARNING: Ignoring invalid distribution -illow (c:\\users\\itsdr\\appdata\\roaming\\python\\python37\\site-packages)\n",
      "WARNING: Ignoring invalid distribution -illow (c:\\users\\itsdr\\appdata\\roaming\\python\\python37\\site-packages)\n",
      "WARNING: Ignoring invalid distribution -illow (c:\\users\\itsdr\\appdata\\roaming\\python\\python37\\site-packages)\n",
      "WARNING: Ignoring invalid distribution -illow (c:\\users\\itsdr\\appdata\\roaming\\python\\python37\\site-packages)\n",
      "WARNING: Ignoring invalid distribution -illow (c:\\users\\itsdr\\appdata\\roaming\\python\\python37\\site-packages)\n"
     ]
    },
    {
     "name": "stdout",
     "output_type": "stream",
     "text": [
      "Requirement already satisfied: pip in c:\\users\\itsdr\\anaconda3\\lib\\site-packages (22.0.4)\n",
      "Requirement already satisfied: wheel in c:\\users\\itsdr\\appdata\\roaming\\python\\python37\\site-packages (0.37.1)\n",
      "Requirement already satisfied: setuptools in c:\\users\\itsdr\\anaconda3\\lib\\site-packages (62.1.0)\n"
     ]
    },
    {
     "name": "stderr",
     "output_type": "stream",
     "text": [
      "WARNING: Ignoring invalid distribution -illow (c:\\users\\itsdr\\appdata\\roaming\\python\\python37\\site-packages)\n",
      "WARNING: Ignoring invalid distribution -illow (c:\\users\\itsdr\\appdata\\roaming\\python\\python37\\site-packages)\n",
      "WARNING: Ignoring invalid distribution -illow (c:\\users\\itsdr\\appdata\\roaming\\python\\python37\\site-packages)\n",
      "WARNING: Ignoring invalid distribution -illow (c:\\users\\itsdr\\appdata\\roaming\\python\\python37\\site-packages)\n",
      "WARNING: Ignoring invalid distribution -illow (c:\\users\\itsdr\\appdata\\roaming\\python\\python37\\site-packages)\n"
     ]
    },
    {
     "name": "stdout",
     "output_type": "stream",
     "text": [
      "Requirement already satisfied: tensorflow==1.15.0 in c:\\users\\itsdr\\appdata\\roaming\\python\\python37\\site-packages (1.15.0)\n",
      "Requirement already satisfied: astor>=0.6.0 in c:\\users\\itsdr\\appdata\\roaming\\python\\python37\\site-packages (from tensorflow==1.15.0) (0.8.1)\n",
      "Requirement already satisfied: absl-py>=0.7.0 in c:\\users\\itsdr\\appdata\\roaming\\python\\python37\\site-packages (from tensorflow==1.15.0) (1.0.0)\n",
      "Requirement already satisfied: tensorboard<1.16.0,>=1.15.0 in c:\\users\\itsdr\\appdata\\roaming\\python\\python37\\site-packages (from tensorflow==1.15.0) (1.15.0)\n",
      "Requirement already satisfied: google-pasta>=0.1.6 in c:\\users\\itsdr\\appdata\\roaming\\python\\python37\\site-packages (from tensorflow==1.15.0) (0.2.0)\n",
      "Requirement already satisfied: gast==0.2.2 in c:\\users\\itsdr\\appdata\\roaming\\python\\python37\\site-packages (from tensorflow==1.15.0) (0.2.2)\n",
      "Requirement already satisfied: grpcio>=1.8.6 in c:\\users\\itsdr\\appdata\\roaming\\python\\python37\\site-packages (from tensorflow==1.15.0) (1.44.0)\n",
      "Requirement already satisfied: tensorflow-estimator==1.15.1 in c:\\users\\itsdr\\appdata\\roaming\\python\\python37\\site-packages (from tensorflow==1.15.0) (1.15.1)\n",
      "Requirement already satisfied: termcolor>=1.1.0 in c:\\users\\itsdr\\appdata\\roaming\\python\\python37\\site-packages (from tensorflow==1.15.0) (1.1.0)\n",
      "Requirement already satisfied: six>=1.10.0 in c:\\users\\itsdr\\appdata\\roaming\\python\\python37\\site-packages (from tensorflow==1.15.0) (1.16.0)\n",
      "Requirement already satisfied: opt-einsum>=2.3.2 in c:\\users\\itsdr\\appdata\\roaming\\python\\python37\\site-packages (from tensorflow==1.15.0) (3.3.0)\n",
      "Requirement already satisfied: protobuf>=3.6.1 in c:\\users\\itsdr\\appdata\\roaming\\python\\python37\\site-packages (from tensorflow==1.15.0) (3.20.1)\n",
      "Requirement already satisfied: wrapt>=1.11.1 in c:\\users\\itsdr\\appdata\\roaming\\python\\python37\\site-packages (from tensorflow==1.15.0) (1.14.0)\n",
      "Requirement already satisfied: wheel>=0.26 in c:\\users\\itsdr\\appdata\\roaming\\python\\python37\\site-packages (from tensorflow==1.15.0) (0.37.1)\n",
      "Requirement already satisfied: numpy<2.0,>=1.16.0 in c:\\users\\itsdr\\appdata\\roaming\\python\\python37\\site-packages (from tensorflow==1.15.0) (1.21.6)\n",
      "Requirement already satisfied: keras-applications>=1.0.8 in c:\\users\\itsdr\\appdata\\roaming\\python\\python37\\site-packages (from tensorflow==1.15.0) (1.0.8)\n",
      "Requirement already satisfied: keras-preprocessing>=1.0.5 in c:\\users\\itsdr\\appdata\\roaming\\python\\python37\\site-packages (from tensorflow==1.15.0) (1.1.2)\n",
      "Requirement already satisfied: h5py in c:\\users\\itsdr\\appdata\\roaming\\python\\python37\\site-packages (from keras-applications>=1.0.8->tensorflow==1.15.0) (3.6.0)\n",
      "Requirement already satisfied: setuptools>=41.0.0 in c:\\users\\itsdr\\anaconda3\\lib\\site-packages (from tensorboard<1.16.0,>=1.15.0->tensorflow==1.15.0) (62.1.0)\n",
      "Requirement already satisfied: werkzeug>=0.11.15 in c:\\users\\itsdr\\appdata\\roaming\\python\\python37\\site-packages (from tensorboard<1.16.0,>=1.15.0->tensorflow==1.15.0) (2.1.1)\n",
      "Requirement already satisfied: markdown>=2.6.8 in c:\\users\\itsdr\\appdata\\roaming\\python\\python37\\site-packages (from tensorboard<1.16.0,>=1.15.0->tensorflow==1.15.0) (3.3.6)\n",
      "Requirement already satisfied: importlib-metadata>=4.4 in c:\\users\\itsdr\\appdata\\roaming\\python\\python37\\site-packages (from markdown>=2.6.8->tensorboard<1.16.0,>=1.15.0->tensorflow==1.15.0) (4.11.3)\n",
      "Requirement already satisfied: typing-extensions>=3.6.4 in c:\\users\\itsdr\\appdata\\roaming\\python\\python37\\site-packages (from importlib-metadata>=4.4->markdown>=2.6.8->tensorboard<1.16.0,>=1.15.0->tensorflow==1.15.0) (4.2.0)\n",
      "Requirement already satisfied: zipp>=0.5 in c:\\users\\itsdr\\appdata\\roaming\\python\\python37\\site-packages (from importlib-metadata>=4.4->markdown>=2.6.8->tensorboard<1.16.0,>=1.15.0->tensorflow==1.15.0) (3.8.0)\n",
      "Requirement already satisfied: cached-property in c:\\users\\itsdr\\appdata\\roaming\\python\\python37\\site-packages (from h5py->keras-applications>=1.0.8->tensorflow==1.15.0) (1.5.2)\n"
     ]
    },
    {
     "name": "stderr",
     "output_type": "stream",
     "text": [
      "WARNING: Ignoring invalid distribution -illow (c:\\users\\itsdr\\appdata\\roaming\\python\\python37\\site-packages)\n",
      "WARNING: Ignoring invalid distribution -illow (c:\\users\\itsdr\\appdata\\roaming\\python\\python37\\site-packages)\n",
      "WARNING: Ignoring invalid distribution -illow (c:\\users\\itsdr\\appdata\\roaming\\python\\python37\\site-packages)\n",
      "WARNING: Ignoring invalid distribution -illow (c:\\users\\itsdr\\appdata\\roaming\\python\\python37\\site-packages)\n",
      "WARNING: Ignoring invalid distribution -illow (c:\\users\\itsdr\\appdata\\roaming\\python\\python37\\site-packages)\n"
     ]
    },
    {
     "name": "stdout",
     "output_type": "stream",
     "text": [
      "Requirement already satisfied: tensorflow-gpu==1.15.0 in c:\\users\\itsdr\\appdata\\roaming\\python\\python37\\site-packages (1.15.0)"
     ]
    },
    {
     "name": "stderr",
     "output_type": "stream",
     "text": [
      "WARNING: Ignoring invalid distribution -illow (c:\\users\\itsdr\\appdata\\roaming\\python\\python37\\site-packages)\n",
      "WARNING: Ignoring invalid distribution -illow (c:\\users\\itsdr\\appdata\\roaming\\python\\python37\\site-packages)\n",
      "WARNING: Ignoring invalid distribution -illow (c:\\users\\itsdr\\appdata\\roaming\\python\\python37\\site-packages)\n",
      "WARNING: Ignoring invalid distribution -illow (c:\\users\\itsdr\\appdata\\roaming\\python\\python37\\site-packages)\n",
      "WARNING: Ignoring invalid distribution -illow (c:\\users\\itsdr\\appdata\\roaming\\python\\python37\\site-packages)\n"
     ]
    },
    {
     "name": "stdout",
     "output_type": "stream",
     "text": [
      "\n",
      "Requirement already satisfied: six>=1.10.0 in c:\\users\\itsdr\\appdata\\roaming\\python\\python37\\site-packages (from tensorflow-gpu==1.15.0) (1.16.0)\n",
      "Requirement already satisfied: tensorflow-estimator==1.15.1 in c:\\users\\itsdr\\appdata\\roaming\\python\\python37\\site-packages (from tensorflow-gpu==1.15.0) (1.15.1)\n",
      "Requirement already satisfied: grpcio>=1.8.6 in c:\\users\\itsdr\\appdata\\roaming\\python\\python37\\site-packages (from tensorflow-gpu==1.15.0) (1.44.0)\n",
      "Requirement already satisfied: gast==0.2.2 in c:\\users\\itsdr\\appdata\\roaming\\python\\python37\\site-packages (from tensorflow-gpu==1.15.0) (0.2.2)\n",
      "Requirement already satisfied: wrapt>=1.11.1 in c:\\users\\itsdr\\appdata\\roaming\\python\\python37\\site-packages (from tensorflow-gpu==1.15.0) (1.14.0)\n",
      "Requirement already satisfied: google-pasta>=0.1.6 in c:\\users\\itsdr\\appdata\\roaming\\python\\python37\\site-packages (from tensorflow-gpu==1.15.0) (0.2.0)\n",
      "Requirement already satisfied: absl-py>=0.7.0 in c:\\users\\itsdr\\appdata\\roaming\\python\\python37\\site-packages (from tensorflow-gpu==1.15.0) (1.0.0)\n",
      "Requirement already satisfied: numpy<2.0,>=1.16.0 in c:\\users\\itsdr\\appdata\\roaming\\python\\python37\\site-packages (from tensorflow-gpu==1.15.0) (1.21.6)\n",
      "Requirement already satisfied: astor>=0.6.0 in c:\\users\\itsdr\\appdata\\roaming\\python\\python37\\site-packages (from tensorflow-gpu==1.15.0) (0.8.1)\n",
      "Requirement already satisfied: keras-preprocessing>=1.0.5 in c:\\users\\itsdr\\appdata\\roaming\\python\\python37\\site-packages (from tensorflow-gpu==1.15.0) (1.1.2)\n",
      "Requirement already satisfied: protobuf>=3.6.1 in c:\\users\\itsdr\\appdata\\roaming\\python\\python37\\site-packages (from tensorflow-gpu==1.15.0) (3.20.1)\n",
      "Requirement already satisfied: tensorboard<1.16.0,>=1.15.0 in c:\\users\\itsdr\\appdata\\roaming\\python\\python37\\site-packages (from tensorflow-gpu==1.15.0) (1.15.0)\n",
      "Requirement already satisfied: opt-einsum>=2.3.2 in c:\\users\\itsdr\\appdata\\roaming\\python\\python37\\site-packages (from tensorflow-gpu==1.15.0) (3.3.0)\n",
      "Requirement already satisfied: keras-applications>=1.0.8 in c:\\users\\itsdr\\appdata\\roaming\\python\\python37\\site-packages (from tensorflow-gpu==1.15.0) (1.0.8)\n",
      "Requirement already satisfied: termcolor>=1.1.0 in c:\\users\\itsdr\\appdata\\roaming\\python\\python37\\site-packages (from tensorflow-gpu==1.15.0) (1.1.0)\n",
      "Requirement already satisfied: wheel>=0.26 in c:\\users\\itsdr\\appdata\\roaming\\python\\python37\\site-packages (from tensorflow-gpu==1.15.0) (0.37.1)\n",
      "Requirement already satisfied: h5py in c:\\users\\itsdr\\appdata\\roaming\\python\\python37\\site-packages (from keras-applications>=1.0.8->tensorflow-gpu==1.15.0) (3.6.0)\n",
      "Requirement already satisfied: setuptools>=41.0.0 in c:\\users\\itsdr\\anaconda3\\lib\\site-packages (from tensorboard<1.16.0,>=1.15.0->tensorflow-gpu==1.15.0) (62.1.0)\n",
      "Requirement already satisfied: markdown>=2.6.8 in c:\\users\\itsdr\\appdata\\roaming\\python\\python37\\site-packages (from tensorboard<1.16.0,>=1.15.0->tensorflow-gpu==1.15.0) (3.3.6)\n",
      "Requirement already satisfied: werkzeug>=0.11.15 in c:\\users\\itsdr\\appdata\\roaming\\python\\python37\\site-packages (from tensorboard<1.16.0,>=1.15.0->tensorflow-gpu==1.15.0) (2.1.1)\n",
      "Requirement already satisfied: importlib-metadata>=4.4 in c:\\users\\itsdr\\appdata\\roaming\\python\\python37\\site-packages (from markdown>=2.6.8->tensorboard<1.16.0,>=1.15.0->tensorflow-gpu==1.15.0) (4.11.3)\n",
      "Requirement already satisfied: zipp>=0.5 in c:\\users\\itsdr\\appdata\\roaming\\python\\python37\\site-packages (from importlib-metadata>=4.4->markdown>=2.6.8->tensorboard<1.16.0,>=1.15.0->tensorflow-gpu==1.15.0) (3.8.0)\n",
      "Requirement already satisfied: typing-extensions>=3.6.4 in c:\\users\\itsdr\\appdata\\roaming\\python\\python37\\site-packages (from importlib-metadata>=4.4->markdown>=2.6.8->tensorboard<1.16.0,>=1.15.0->tensorflow-gpu==1.15.0) (4.2.0)\n",
      "Requirement already satisfied: cached-property in c:\\users\\itsdr\\appdata\\roaming\\python\\python37\\site-packages (from h5py->keras-applications>=1.0.8->tensorflow-gpu==1.15.0) (1.5.2)\n",
      "Requirement already satisfied: stable_baselines[mpi] in c:\\users\\itsdr\\appdata\\roaming\\python\\python37\\site-packages (2.10.2)\n",
      "Requirement already satisfied: scipy in c:\\users\\itsdr\\appdata\\roaming\\python\\python37\\site-packages (from stable_baselines[mpi]) (1.7.3)\n",
      "Requirement already satisfied: matplotlib in c:\\users\\itsdr\\appdata\\roaming\\python\\python37\\site-packages (from stable_baselines[mpi]) (3.5.1)\n",
      "Requirement already satisfied: joblib in c:\\users\\itsdr\\appdata\\roaming\\python\\python37\\site-packages (from stable_baselines[mpi]) (1.1.0)\n",
      "Requirement already satisfied: cloudpickle>=0.5.5 in c:\\users\\itsdr\\appdata\\roaming\\python\\python37\\site-packages (from stable_baselines[mpi]) (1.6.0)\n",
      "Requirement already satisfied: opencv-python in c:\\users\\itsdr\\appdata\\roaming\\python\\python37\\site-packages (from stable_baselines[mpi]) (4.5.5.64)\n",
      "Requirement already satisfied: pandas in c:\\users\\itsdr\\appdata\\roaming\\python\\python37\\site-packages (from stable_baselines[mpi]) (1.3.5)\n",
      "Requirement already satisfied: gym[atari,classic_control]>=0.11 in c:\\users\\itsdr\\appdata\\roaming\\python\\python37\\site-packages (from stable_baselines[mpi]) (0.19.0)\n",
      "Requirement already satisfied: numpy in c:\\users\\itsdr\\appdata\\roaming\\python\\python37\\site-packages (from stable_baselines[mpi]) (1.21.6)\n",
      "Requirement already satisfied: mpi4py in c:\\users\\itsdr\\appdata\\roaming\\python\\python37\\site-packages (from stable_baselines[mpi]) (3.1.3)\n",
      "Requirement already satisfied: atari-py==0.2.6 in c:\\users\\itsdr\\appdata\\roaming\\python\\python37\\site-packages (from gym[atari,classic_control]>=0.11->stable_baselines[mpi]) (0.2.6)\n",
      "Requirement already satisfied: pyglet>=1.4.0 in c:\\users\\itsdr\\appdata\\roaming\\python\\python37\\site-packages (from gym[atari,classic_control]>=0.11->stable_baselines[mpi]) (1.5.0)\n",
      "Requirement already satisfied: six in c:\\users\\itsdr\\appdata\\roaming\\python\\python37\\site-packages (from atari-py==0.2.6->gym[atari,classic_control]>=0.11->stable_baselines[mpi]) (1.16.0)\n",
      "Requirement already satisfied: future in c:\\users\\itsdr\\anaconda3\\lib\\site-packages (from pyglet>=1.4.0->gym[atari,classic_control]>=0.11->stable_baselines[mpi]) (0.18.2)\n",
      "Requirement already satisfied: fonttools>=4.22.0 in c:\\users\\itsdr\\appdata\\roaming\\python\\python37\\site-packages (from matplotlib->stable_baselines[mpi]) (4.33.2)\n",
      "Requirement already satisfied: packaging>=20.0 in c:\\users\\itsdr\\appdata\\roaming\\python\\python37\\site-packages (from matplotlib->stable_baselines[mpi]) (21.3)\n",
      "Requirement already satisfied: pillow>=6.2.0 in c:\\users\\itsdr\\appdata\\roaming\\python\\python37\\site-packages (from matplotlib->stable_baselines[mpi]) (7.2.0)\n",
      "Requirement already satisfied: python-dateutil>=2.7 in c:\\users\\itsdr\\appdata\\roaming\\python\\python37\\site-packages (from matplotlib->stable_baselines[mpi]) (2.8.2)\n",
      "Requirement already satisfied: pyparsing>=2.2.1 in c:\\users\\itsdr\\appdata\\roaming\\python\\python37\\site-packages (from matplotlib->stable_baselines[mpi]) (3.0.8)\n",
      "Requirement already satisfied: kiwisolver>=1.0.1 in c:\\users\\itsdr\\appdata\\roaming\\python\\python37\\site-packages (from matplotlib->stable_baselines[mpi]) (1.4.2)\n",
      "Requirement already satisfied: cycler>=0.10 in c:\\users\\itsdr\\appdata\\roaming\\python\\python37\\site-packages (from matplotlib->stable_baselines[mpi]) (0.11.0)\n",
      "Requirement already satisfied: typing-extensions in c:\\users\\itsdr\\appdata\\roaming\\python\\python37\\site-packages (from kiwisolver>=1.0.1->matplotlib->stable_baselines[mpi]) (4.2.0)\n",
      "Requirement already satisfied: pytz>=2017.3 in c:\\users\\itsdr\\appdata\\roaming\\python\\python37\\site-packages (from pandas->stable_baselines[mpi]) (2022.1)\n"
     ]
    },
    {
     "name": "stderr",
     "output_type": "stream",
     "text": [
      "WARNING: Ignoring invalid distribution -illow (c:\\users\\itsdr\\appdata\\roaming\\python\\python37\\site-packages)\n",
      "WARNING: Ignoring invalid distribution -illow (c:\\users\\itsdr\\appdata\\roaming\\python\\python37\\site-packages)\n",
      "WARNING: Ignoring invalid distribution -illow (c:\\users\\itsdr\\appdata\\roaming\\python\\python37\\site-packages)\n",
      "WARNING: Ignoring invalid distribution -illow (c:\\users\\itsdr\\appdata\\roaming\\python\\python37\\site-packages)\n",
      "WARNING: Ignoring invalid distribution -illow (c:\\users\\itsdr\\appdata\\roaming\\python\\python37\\site-packages)\n"
     ]
    },
    {
     "name": "stdout",
     "output_type": "stream",
     "text": [
      "Requirement already satisfied: gym==0.19.0 in c:\\users\\itsdr\\appdata\\roaming\\python\\python37\\site-packages (0.19.0)\n",
      "Requirement already satisfied: cloudpickle<1.7.0,>=1.2.0 in c:\\users\\itsdr\\appdata\\roaming\\python\\python37\\site-packages (from gym==0.19.0) (1.6.0)\n",
      "Requirement already satisfied: numpy>=1.18.0 in c:\\users\\itsdr\\appdata\\roaming\\python\\python37\\site-packages (from gym==0.19.0) (1.21.6)\n"
     ]
    },
    {
     "name": "stderr",
     "output_type": "stream",
     "text": [
      "WARNING: Ignoring invalid distribution -illow (c:\\users\\itsdr\\appdata\\roaming\\python\\python37\\site-packages)\n",
      "WARNING: Ignoring invalid distribution -illow (c:\\users\\itsdr\\appdata\\roaming\\python\\python37\\site-packages)\n",
      "WARNING: Ignoring invalid distribution -illow (c:\\users\\itsdr\\appdata\\roaming\\python\\python37\\site-packages)\n",
      "WARNING: Ignoring invalid distribution -illow (c:\\users\\itsdr\\appdata\\roaming\\python\\python37\\site-packages)\n",
      "WARNING: Ignoring invalid distribution -illow (c:\\users\\itsdr\\appdata\\roaming\\python\\python37\\site-packages)\n"
     ]
    },
    {
     "name": "stdout",
     "output_type": "stream",
     "text": [
      "Requirement already satisfied: box2d-py in c:\\users\\itsdr\\appdata\\roaming\\python\\python37\\site-packages (2.3.8)\n"
     ]
    },
    {
     "name": "stderr",
     "output_type": "stream",
     "text": [
      "WARNING: Ignoring invalid distribution -illow (c:\\users\\itsdr\\appdata\\roaming\\python\\python37\\site-packages)\n",
      "WARNING: Ignoring invalid distribution -illow (c:\\users\\itsdr\\appdata\\roaming\\python\\python37\\site-packages)\n",
      "WARNING: Ignoring invalid distribution -illow (c:\\users\\itsdr\\appdata\\roaming\\python\\python37\\site-packages)\n",
      "WARNING: Ignoring invalid distribution -illow (c:\\users\\itsdr\\appdata\\roaming\\python\\python37\\site-packages)\n",
      "WARNING: Ignoring invalid distribution -illow (c:\\users\\itsdr\\appdata\\roaming\\python\\python37\\site-packages)\n"
     ]
    },
    {
     "name": "stdout",
     "output_type": "stream",
     "text": [
      "Requirement already satisfied: atari-py in c:\\users\\itsdr\\appdata\\roaming\\python\\python37\\site-packages (0.2.6)\n",
      "Requirement already satisfied: numpy in c:\\users\\itsdr\\appdata\\roaming\\python\\python37\\site-packages (from atari-py) (1.21.6)\n",
      "Requirement already satisfied: six in c:\\users\\itsdr\\appdata\\roaming\\python\\python37\\site-packages (from atari-py) (1.16.0)\n"
     ]
    },
    {
     "name": "stderr",
     "output_type": "stream",
     "text": [
      "WARNING: Ignoring invalid distribution -illow (c:\\users\\itsdr\\appdata\\roaming\\python\\python37\\site-packages)\n",
      "WARNING: Ignoring invalid distribution -illow (c:\\users\\itsdr\\appdata\\roaming\\python\\python37\\site-packages)\n",
      "WARNING: Ignoring invalid distribution -illow (c:\\users\\itsdr\\appdata\\roaming\\python\\python37\\site-packages)\n",
      "WARNING: Ignoring invalid distribution -illow (c:\\users\\itsdr\\appdata\\roaming\\python\\python37\\site-packages)\n",
      "WARNING: Ignoring invalid distribution -illow (c:\\users\\itsdr\\appdata\\roaming\\python\\python37\\site-packages)\n"
     ]
    }
   ],
   "source": [
    "# Requires Python 3.7\n",
    "!pip install torch torchvision torchaudio --extra-index-url https://download.pytorch.org/whl/cu113\n",
    "!pip install -U pip wheel setuptools\n",
    "!pip install tensorflow==1.15.0 --user\n",
    "!pip install tensorflow-gpu==1.15.0 --user\n",
    "!pip install stable_baselines[mpi] --user\n",
    "!pip install \"gym==0.19.0\" --user\n",
    "!pip install box2d-py --user\n",
    "!pip3 install atari-py"
   ]
  },
  {
   "cell_type": "code",
   "execution_count": 21,
   "id": "0409300a",
   "metadata": {},
   "outputs": [],
   "source": [
    "import gym \n",
    "from stable_baselines.common.vec_env import VecFrameStack\n",
    "from stable_baselines.common.vec_env import DummyVecEnv\n",
    "from stable_baselines.common.evaluation import evaluate_policy\n",
    "from stable_baselines.common.cmd_util import make_atari_env\n",
    "import os\n",
    "\n",
    "from stable_baselines import A2C\n",
    "from stable_baselines import ACER\n",
    "from stable_baselines import PPO2\n",
    "from stable_baselines import DQN"
   ]
  },
  {
   "cell_type": "code",
   "execution_count": 22,
   "id": "d27851fc",
   "metadata": {},
   "outputs": [],
   "source": [
    "env = make_atari_env('MsPacmanNoFrameskip-v0', num_env=1, seed=0)\n",
    "env = VecFrameStack(env, n_stack=1)\n",
    "log_path = os.path.join('.\\Training_MsPacman', 'Logs')"
   ]
  },
  {
   "cell_type": "code",
   "execution_count": 23,
   "id": "06d22d7b",
   "metadata": {},
   "outputs": [],
   "source": [
    "# !rm -rf ./Training_MsPacman/Logs/\n",
    "\n",
    "model_breakout_A2C = A2C(\"CnnPolicy\", env, verbose=1, tensorboard_log=log_path)\n",
    "model_breakout_ACER = ACER(\"CnnPolicy\", env, verbose=1, tensorboard_log=log_path)\n",
    "model_breakout_PPO2 = PPO2(\"CnnPolicy\", env, verbose=1, tensorboard_log=log_path)\n",
    "model_breakout_DQN = DQN(\"CnnPolicy\", env, verbose=1, tensorboard_log=log_path)"
   ]
  },
  {
   "cell_type": "code",
   "execution_count": 24,
   "id": "4283c0dd",
   "metadata": {
    "scrolled": false
   },
   "outputs": [
    {
     "name": "stdout",
     "output_type": "stream",
     "text": [
      "The tensorboard extension is already loaded. To reload it, use:\n",
      "  %reload_ext tensorboard\n",
      "Known TensorBoard instances:\n",
      "  - port 6008: logdir .\\Training\\Logs\\PPO2_1 (started 1:59:51 ago; pid 1300)\n",
      "  - port 6007: logdir .\\Training_Breakout\\Logs\\ACER_1 (started 0:01:28 ago; pid 16784)\n",
      "  - port 6010: logdir .\\Training_MsPacman\\Logs\\A2C_1 (started 0:06:10 ago; pid 1816)\n",
      "  - port 6006: logdir .\\Training\\Logs\\A2C_1 (started 1:41:02 ago; pid 19784)\n",
      "  - port 6006: logdir .\\Training_Breakout\\Logs\\A2C_1 (started 0:01:45 ago; pid 20024)\n",
      "  - port 6007: logdir .\\Training\\Logs\\ACER_1 (started 1:57:36 ago; pid 20476)\n",
      "  - port 6006: logdir .\\Training\\Logs\\A2C_1 (started 1:53:25 ago; pid 21880)\n",
      "  - port 6006: logdir .\\Training\\Logs\\ACER_1 (started 2:04:34 ago; pid 22660)\n",
      "  - port 6007: logdir .\\Training\\Logs\\ACER_1 (started 1:40:59 ago; pid 23128)\n",
      "  - port 6012: logdir .\\Training_MsPacman\\Logs\\PPO2_1 (started 0:04:23 ago; pid 2328)\n",
      "  - port 6008: logdir .\\Training\\Logs\\PPO2_1 (started 1:57:25 ago; pid 23784)\n",
      "  - port 6006: logdir .\\Training\\Logs\\A2C_1 (started 2:03:25 ago; pid 24664)\n",
      "  - port 6006: logdir .\\Training\\Logs\\ACER_1 (started 2:04:21 ago; pid 25176)\n",
      "  - port 6008: logdir .\\Training\\Logs\\PPO2_1 (started 1:47:13 ago; pid 25280)\n",
      "  - port 6011: logdir .\\Training_MsPacman\\Logs\\ACER_1 (started 0:04:32 ago; pid 25464)\n",
      "  - port 6007: logdir .\\Training\\Logs\\ACER_1 (started 1:47:18 ago; pid 25752)\n",
      "  - port 6009: logdir .\\Training\\Logs\\DQN_1 (started 0:41:25 ago; pid 26236)\n",
      "  - port 6006: logdir .\\Training\\Logs\\A2C_1 (started 1:57:59 ago; pid 5124)\n",
      "  - port 6009: logdir .\\Training_Breakout\\Logs\\DQN_1 (started 0:00:52 ago; pid 5604)\n",
      "  - port 6008: logdir .\\Training\\Logs\\PPO2_1 (started 1:40:57 ago; pid 6276)\n",
      "  - port 6013: logdir .\\Training_MsPacman\\Logs\\DQN_1 (started 0:04:03 ago; pid 7020)\n"
     ]
    }
   ],
   "source": [
    "from tensorboard import notebook\n",
    "%load_ext tensorboard\n",
    "%reload_ext tensorboard\n",
    "\n",
    "notebook.list() # View open TensorBoard instances"
   ]
  },
  {
   "cell_type": "code",
   "execution_count": 25,
   "id": "8cccf8db",
   "metadata": {},
   "outputs": [
    {
     "name": "stdout",
     "output_type": "stream",
     "text": [
      "^C\n",
      "^C\n",
      "^C\n",
      "^C\n"
     ]
    }
   ],
   "source": [
    "# Must manually stop/interupt (i,i) x 3 once tensorboard is created\n",
    "# Only run this block once! (I commented out to ensure it doesn't run again!)\n",
    "# training_log_path = os.path.join(log_path, 'A2C_1')\n",
    "# !tensorboard --port=6014 --logdir={training_log_path}\n",
    "\n",
    "# training_log_path = os.path.join(log_path, 'ACER_1')\n",
    "# !tensorboard --port=6015 --logdir={training_log_path}\n",
    "\n",
    "# training_log_path = os.path.join(log_path, 'PPO2_1')\n",
    "# !tensorboard --port=6016 --logdir={training_log_path}\n",
    "\n",
    "# training_log_path = os.path.join(log_path, 'DQN_1')\n",
    "# !tensorboard --port=6017 --logdir={training_log_path}"
   ]
  },
  {
   "cell_type": "code",
   "execution_count": null,
   "id": "12f833fd",
   "metadata": {},
   "outputs": [],
   "source": [
    "print(\"LEARN A2C:\")\n",
    "model_breakout_A2C.learn(total_timesteps=100000)"
   ]
  },
  {
   "cell_type": "code",
   "execution_count": null,
   "id": "f865f0a2",
   "metadata": {},
   "outputs": [],
   "source": [
    "breakout_a2c_path = os.path.join('.\\Training_MsPacman', 'Saved Models', 'A2C_model')\n",
    "model_breakout_A2C.save(breakout_a2c_path)\n",
    "del model_breakout_A2C"
   ]
  },
  {
   "cell_type": "code",
   "execution_count": null,
   "id": "89a3f465",
   "metadata": {},
   "outputs": [],
   "source": [
    "model_breakout_A2C = A2C.load(breakout_a2c_path, env)\n",
    "evaluate_policy(model_breakout_A2C, env, n_eval_episodes=20, render=False)"
   ]
  },
  {
   "cell_type": "code",
   "execution_count": null,
   "id": "bee5f849",
   "metadata": {},
   "outputs": [],
   "source": [
    "print(\"LEARN ACER:\")\n",
    "model_breakout_ACER.learn(total_timesteps=100000)"
   ]
  },
  {
   "cell_type": "code",
   "execution_count": null,
   "id": "0bfa61dc",
   "metadata": {},
   "outputs": [],
   "source": [
    "breakout_acer_path = os.path.join('.\\Training_MsPacman', 'Saved Models', 'ACER_model')\n",
    "model_breakout_ACER.save(breakout_acer_path)\n",
    "del model_breakout_ACER"
   ]
  },
  {
   "cell_type": "code",
   "execution_count": null,
   "id": "9c7e6220",
   "metadata": {},
   "outputs": [],
   "source": [
    "model_breakout_ACER = ACER.load(breakout_acer_path, env)\n",
    "evaluate_policy(model_breakout_ACER, env, n_eval_episodes=20, render=False)"
   ]
  },
  {
   "cell_type": "code",
   "execution_count": null,
   "id": "a99113c6",
   "metadata": {},
   "outputs": [],
   "source": [
    "print(\"LEARN PPO2:\")\n",
    "model_breakout_PPO2.learn(total_timesteps=100000)"
   ]
  },
  {
   "cell_type": "code",
   "execution_count": null,
   "id": "29283d11",
   "metadata": {},
   "outputs": [],
   "source": [
    "breakout_ppo2_path = os.path.join('.\\Training_MsPacman', 'Saved Models', 'PPO2_model')\n",
    "model_breakout_PPO2.save(breakout_ppo2_path)\n",
    "del model_breakout_PPO2"
   ]
  },
  {
   "cell_type": "code",
   "execution_count": null,
   "id": "adbf2cf7",
   "metadata": {},
   "outputs": [],
   "source": [
    "model_breakout_PPO2 = PPO2.load(breakout_ppo2_path, env=env)\n",
    "evaluate_policy(model_breakout_PPO2, env, n_eval_episodes=20, render=False)"
   ]
  },
  {
   "cell_type": "code",
   "execution_count": null,
   "id": "715e0e09",
   "metadata": {},
   "outputs": [],
   "source": [
    "print(\"LEARN DQN:\")\n",
    "model_breakout_DQN.learn(total_timesteps=100000)"
   ]
  },
  {
   "cell_type": "code",
   "execution_count": null,
   "id": "356c2976",
   "metadata": {},
   "outputs": [],
   "source": [
    "breakout_dqn_path = os.path.join('.\\Training_MsPacman', 'Saved Models', 'DQN_model')\n",
    "model_breakout_DQN.save(breakout_dqn_path)\n",
    "del model_breakout_DQN"
   ]
  },
  {
   "cell_type": "code",
   "execution_count": 27,
   "id": "8f07d15a",
   "metadata": {},
   "outputs": [],
   "source": [
    "model_breakout_DQN = DQN.load(breakout_dqn_path, env=env)\n",
    "evaluate_policy(model_breakout_DQN, env, n_eval_episodes=20, render=False)"
   ]
  },
  {
   "cell_type": "code",
   "execution_count": 30,
   "id": "5de7a29c",
   "metadata": {},
   "outputs": [],
   "source": [
    "env.close()"
   ]
  }
 ],
 "metadata": {
  "kernelspec": {
   "display_name": "Python 3 (ipykernel)",
   "language": "python",
   "name": "python3"
  },
  "language_info": {
   "codemirror_mode": {
    "name": "ipython",
    "version": 3
   },
   "file_extension": ".py",
   "mimetype": "text/x-python",
   "name": "python",
   "nbconvert_exporter": "python",
   "pygments_lexer": "ipython3",
   "version": "3.7.11"
  }
 },
 "nbformat": 4,
 "nbformat_minor": 5
}
